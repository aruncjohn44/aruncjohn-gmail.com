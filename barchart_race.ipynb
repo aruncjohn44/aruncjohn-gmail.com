{
 "cells": [
  {
   "cell_type": "code",
   "execution_count": 3,
   "metadata": {},
   "outputs": [],
   "source": [
    "import pandas as pd\n",
    "import numpy as np\n",
    "import matplotlib.pyplot as plt\n",
    "import matplotlib.ticker as ticker\n",
    "import matplotlib.animation as animation\n",
    "from IPython.display import HTML"
   ]
  },
  {
   "cell_type": "markdown",
   "metadata": {},
   "source": [
    "You can get this data from ECDC website (European centre for disease preventiona and control)"
   ]
  },
  {
   "cell_type": "code",
   "execution_count": 4,
   "metadata": {},
   "outputs": [],
   "source": [
    "raw_data = pd.read_excel(r'D:\\Misc\\covid_data_02_04.xlsx')"
   ]
  },
  {
   "cell_type": "code",
   "execution_count": 5,
   "metadata": {},
   "outputs": [
    {
     "data": {
      "text/html": [
       "<div>\n",
       "<style scoped>\n",
       "    .dataframe tbody tr th:only-of-type {\n",
       "        vertical-align: middle;\n",
       "    }\n",
       "\n",
       "    .dataframe tbody tr th {\n",
       "        vertical-align: top;\n",
       "    }\n",
       "\n",
       "    .dataframe thead th {\n",
       "        text-align: right;\n",
       "    }\n",
       "</style>\n",
       "<table border=\"1\" class=\"dataframe\">\n",
       "  <thead>\n",
       "    <tr style=\"text-align: right;\">\n",
       "      <th></th>\n",
       "      <th>dateRep</th>\n",
       "      <th>day</th>\n",
       "      <th>month</th>\n",
       "      <th>year</th>\n",
       "      <th>cases</th>\n",
       "      <th>deaths</th>\n",
       "      <th>countriesAndTerritories</th>\n",
       "      <th>geoId</th>\n",
       "      <th>countryterritoryCode</th>\n",
       "      <th>popData2018</th>\n",
       "    </tr>\n",
       "  </thead>\n",
       "  <tbody>\n",
       "    <tr>\n",
       "      <td>0</td>\n",
       "      <td>2020-04-01</td>\n",
       "      <td>1</td>\n",
       "      <td>4</td>\n",
       "      <td>2020</td>\n",
       "      <td>25</td>\n",
       "      <td>0</td>\n",
       "      <td>Afghanistan</td>\n",
       "      <td>AF</td>\n",
       "      <td>AFG</td>\n",
       "      <td>37172386.0</td>\n",
       "    </tr>\n",
       "    <tr>\n",
       "      <td>1</td>\n",
       "      <td>2020-03-31</td>\n",
       "      <td>31</td>\n",
       "      <td>3</td>\n",
       "      <td>2020</td>\n",
       "      <td>27</td>\n",
       "      <td>0</td>\n",
       "      <td>Afghanistan</td>\n",
       "      <td>AF</td>\n",
       "      <td>AFG</td>\n",
       "      <td>37172386.0</td>\n",
       "    </tr>\n",
       "    <tr>\n",
       "      <td>2</td>\n",
       "      <td>2020-03-30</td>\n",
       "      <td>30</td>\n",
       "      <td>3</td>\n",
       "      <td>2020</td>\n",
       "      <td>8</td>\n",
       "      <td>1</td>\n",
       "      <td>Afghanistan</td>\n",
       "      <td>AF</td>\n",
       "      <td>AFG</td>\n",
       "      <td>37172386.0</td>\n",
       "    </tr>\n",
       "    <tr>\n",
       "      <td>3</td>\n",
       "      <td>2020-03-29</td>\n",
       "      <td>29</td>\n",
       "      <td>3</td>\n",
       "      <td>2020</td>\n",
       "      <td>15</td>\n",
       "      <td>1</td>\n",
       "      <td>Afghanistan</td>\n",
       "      <td>AF</td>\n",
       "      <td>AFG</td>\n",
       "      <td>37172386.0</td>\n",
       "    </tr>\n",
       "    <tr>\n",
       "      <td>4</td>\n",
       "      <td>2020-03-28</td>\n",
       "      <td>28</td>\n",
       "      <td>3</td>\n",
       "      <td>2020</td>\n",
       "      <td>16</td>\n",
       "      <td>1</td>\n",
       "      <td>Afghanistan</td>\n",
       "      <td>AF</td>\n",
       "      <td>AFG</td>\n",
       "      <td>37172386.0</td>\n",
       "    </tr>\n",
       "  </tbody>\n",
       "</table>\n",
       "</div>"
      ],
      "text/plain": [
       "     dateRep  day  month  year  cases  deaths countriesAndTerritories geoId  \\\n",
       "0 2020-04-01    1      4  2020     25       0             Afghanistan    AF   \n",
       "1 2020-03-31   31      3  2020     27       0             Afghanistan    AF   \n",
       "2 2020-03-30   30      3  2020      8       1             Afghanistan    AF   \n",
       "3 2020-03-29   29      3  2020     15       1             Afghanistan    AF   \n",
       "4 2020-03-28   28      3  2020     16       1             Afghanistan    AF   \n",
       "\n",
       "  countryterritoryCode  popData2018  \n",
       "0                  AFG   37172386.0  \n",
       "1                  AFG   37172386.0  \n",
       "2                  AFG   37172386.0  \n",
       "3                  AFG   37172386.0  \n",
       "4                  AFG   37172386.0  "
      ]
     },
     "execution_count": 5,
     "metadata": {},
     "output_type": "execute_result"
    }
   ],
   "source": [
    "raw_data.head(5)"
   ]
  },
  {
   "cell_type": "code",
   "execution_count": 7,
   "metadata": {},
   "outputs": [
    {
     "data": {
      "text/plain": [
       "Index(['dateRep', 'day', 'month', 'year', 'cases', 'deaths',\n",
       "       'countriesAndTerritories', 'geoId', 'countryterritoryCode',\n",
       "       'popData2018'],\n",
       "      dtype='object')"
      ]
     },
     "execution_count": 7,
     "metadata": {},
     "output_type": "execute_result"
    }
   ],
   "source": [
    "raw_data.columns"
   ]
  },
  {
   "cell_type": "code",
   "execution_count": 8,
   "metadata": {},
   "outputs": [],
   "source": [
    "drop_indices = ['day', 'month', 'year', 'geoId', 'countryterritoryCode']\n",
    "raw_data = raw_data.drop(drop_indices, axis = 1)"
   ]
  },
  {
   "cell_type": "markdown",
   "metadata": {},
   "source": [
    "## Adding Cmulative summations for cases and deaths\n",
    "In this step first we are fetching the data countrywise. Since we have only daily reported data avilable, we need to find its cumulative sum as well. Once thats done, we will stack up the dataframes using concatebnation."
   ]
  },
  {
   "cell_type": "code",
   "execution_count": 9,
   "metadata": {},
   "outputs": [],
   "source": [
    "country_names = np.unique(raw_data.countriesAndTerritories.values)\n",
    "\n",
    "for n, country in enumerate(country_names):\n",
    "    country_df = raw_data.query('countriesAndTerritories==\"%s\"' % country)\n",
    "    country_df = country_df.sort_values(by='dateRep', ascending=True)\n",
    "    cases = country_df.cases\n",
    "    deaths = country_df.deaths\n",
    "    cases = cases.cumsum()\n",
    "    deaths = deaths.cumsum()\n",
    "    country_df.cases = cases\n",
    "    country_df.deaths = deaths\n",
    "    if not n:\n",
    "        df = country_df\n",
    "        continue\n",
    "    df = pd.concat([df, country_df], ignore_index =True)\n",
    "df_final = df.reset_index()\n",
    "df_final = df_final.drop(['index'], axis =1)"
   ]
  },
  {
   "cell_type": "markdown",
   "metadata": {},
   "source": [
    "\n",
    "### Upsampling the data\n",
    "What I have observed plotting only with daily data is that, the frame transtions are not smooth. So we need to upsample the data with some level of interpolation.\n",
    "To make a smooth video, let's upsample the data with 8 hour interval. \n",
    "\n",
    "Also interpolate the values for total number of cases"
   ]
  },
  {
   "cell_type": "code",
   "execution_count": 10,
   "metadata": {},
   "outputs": [],
   "source": [
    "df_final_upsam = df_final.copy()\n",
    "df_final_upsam.index = pd.to_datetime(df_final_upsam['dateRep'])\n",
    "df_final_upsam = df_final_upsam.groupby('countriesAndTerritories').resample('8H').mean()\n",
    "df_final_upsam.cases = df_final_upsam.cases.interpolate()\n",
    "df_final_upsam.deaths = df_final_upsam.deaths.interpolate()\n",
    "# converting to int array\n",
    "df_final_upsam.cases = df_final_upsam.cases.astype(int)\n",
    "df_final_upsam.deaths = df_final_upsam.deaths.astype(int)\n",
    "df_final_upsam.popData2018 = df_final_upsam.popData2018.fillna(method='ffill')\n",
    "country_name = pd.array([val[0] for val in df_final_upsam.index])\n",
    "date_time = pd.array([val[1] for val in df_final_upsam.index])\n",
    "df_final_upsam['countriesAndTerritories'] = country_name\n",
    "df_final_upsam['dateRep'] = date_time"
   ]
  },
  {
   "cell_type": "markdown",
   "metadata": {},
   "source": [
    "To get an idea just what happened, lets query for countrywise data and visualize it. "
   ]
  },
  {
   "cell_type": "code",
   "execution_count": 11,
   "metadata": {},
   "outputs": [
    {
     "data": {
      "text/html": [
       "<div>\n",
       "<style scoped>\n",
       "    .dataframe tbody tr th:only-of-type {\n",
       "        vertical-align: middle;\n",
       "    }\n",
       "\n",
       "    .dataframe tbody tr th {\n",
       "        vertical-align: top;\n",
       "    }\n",
       "\n",
       "    .dataframe thead th {\n",
       "        text-align: right;\n",
       "    }\n",
       "</style>\n",
       "<table border=\"1\" class=\"dataframe\">\n",
       "  <thead>\n",
       "    <tr style=\"text-align: right;\">\n",
       "      <th></th>\n",
       "      <th></th>\n",
       "      <th>cases</th>\n",
       "      <th>deaths</th>\n",
       "      <th>popData2018</th>\n",
       "      <th>countriesAndTerritories</th>\n",
       "      <th>dateRep</th>\n",
       "    </tr>\n",
       "    <tr>\n",
       "      <th>countriesAndTerritories</th>\n",
       "      <th>dateRep</th>\n",
       "      <th></th>\n",
       "      <th></th>\n",
       "      <th></th>\n",
       "      <th></th>\n",
       "      <th></th>\n",
       "    </tr>\n",
       "  </thead>\n",
       "  <tbody>\n",
       "    <tr>\n",
       "      <td rowspan=\"10\" valign=\"top\">United_States_of_America</td>\n",
       "      <td>2020-03-29 00:00:00</td>\n",
       "      <td>124665</td>\n",
       "      <td>2191</td>\n",
       "      <td>327167434.0</td>\n",
       "      <td>United_States_of_America</td>\n",
       "      <td>2020-03-29 00:00:00</td>\n",
       "    </tr>\n",
       "    <tr>\n",
       "      <td>2020-03-29 08:00:00</td>\n",
       "      <td>130785</td>\n",
       "      <td>2297</td>\n",
       "      <td>327167434.0</td>\n",
       "      <td>United_States_of_America</td>\n",
       "      <td>2020-03-29 08:00:00</td>\n",
       "    </tr>\n",
       "    <tr>\n",
       "      <td>2020-03-29 16:00:00</td>\n",
       "      <td>136905</td>\n",
       "      <td>2403</td>\n",
       "      <td>327167434.0</td>\n",
       "      <td>United_States_of_America</td>\n",
       "      <td>2020-03-29 16:00:00</td>\n",
       "    </tr>\n",
       "    <tr>\n",
       "      <td>2020-03-30 00:00:00</td>\n",
       "      <td>143025</td>\n",
       "      <td>2509</td>\n",
       "      <td>327167434.0</td>\n",
       "      <td>United_States_of_America</td>\n",
       "      <td>2020-03-30 00:00:00</td>\n",
       "    </tr>\n",
       "    <tr>\n",
       "      <td>2020-03-30 08:00:00</td>\n",
       "      <td>150223</td>\n",
       "      <td>2729</td>\n",
       "      <td>327167434.0</td>\n",
       "      <td>United_States_of_America</td>\n",
       "      <td>2020-03-30 08:00:00</td>\n",
       "    </tr>\n",
       "    <tr>\n",
       "      <td>2020-03-30 16:00:00</td>\n",
       "      <td>157421</td>\n",
       "      <td>2949</td>\n",
       "      <td>327167434.0</td>\n",
       "      <td>United_States_of_America</td>\n",
       "      <td>2020-03-30 16:00:00</td>\n",
       "    </tr>\n",
       "    <tr>\n",
       "      <td>2020-03-31 00:00:00</td>\n",
       "      <td>164620</td>\n",
       "      <td>3170</td>\n",
       "      <td>327167434.0</td>\n",
       "      <td>United_States_of_America</td>\n",
       "      <td>2020-03-31 00:00:00</td>\n",
       "    </tr>\n",
       "    <tr>\n",
       "      <td>2020-03-31 08:00:00</td>\n",
       "      <td>172952</td>\n",
       "      <td>3473</td>\n",
       "      <td>327167434.0</td>\n",
       "      <td>United_States_of_America</td>\n",
       "      <td>2020-03-31 08:00:00</td>\n",
       "    </tr>\n",
       "    <tr>\n",
       "      <td>2020-03-31 16:00:00</td>\n",
       "      <td>181285</td>\n",
       "      <td>3776</td>\n",
       "      <td>327167434.0</td>\n",
       "      <td>United_States_of_America</td>\n",
       "      <td>2020-03-31 16:00:00</td>\n",
       "    </tr>\n",
       "    <tr>\n",
       "      <td>2020-04-01 00:00:00</td>\n",
       "      <td>189618</td>\n",
       "      <td>4079</td>\n",
       "      <td>327167434.0</td>\n",
       "      <td>United_States_of_America</td>\n",
       "      <td>2020-04-01 00:00:00</td>\n",
       "    </tr>\n",
       "  </tbody>\n",
       "</table>\n",
       "</div>"
      ],
      "text/plain": [
       "                                               cases  deaths  popData2018  \\\n",
       "countriesAndTerritories  dateRep                                            \n",
       "United_States_of_America 2020-03-29 00:00:00  124665    2191  327167434.0   \n",
       "                         2020-03-29 08:00:00  130785    2297  327167434.0   \n",
       "                         2020-03-29 16:00:00  136905    2403  327167434.0   \n",
       "                         2020-03-30 00:00:00  143025    2509  327167434.0   \n",
       "                         2020-03-30 08:00:00  150223    2729  327167434.0   \n",
       "                         2020-03-30 16:00:00  157421    2949  327167434.0   \n",
       "                         2020-03-31 00:00:00  164620    3170  327167434.0   \n",
       "                         2020-03-31 08:00:00  172952    3473  327167434.0   \n",
       "                         2020-03-31 16:00:00  181285    3776  327167434.0   \n",
       "                         2020-04-01 00:00:00  189618    4079  327167434.0   \n",
       "\n",
       "                                               countriesAndTerritories  \\\n",
       "countriesAndTerritories  dateRep                                         \n",
       "United_States_of_America 2020-03-29 00:00:00  United_States_of_America   \n",
       "                         2020-03-29 08:00:00  United_States_of_America   \n",
       "                         2020-03-29 16:00:00  United_States_of_America   \n",
       "                         2020-03-30 00:00:00  United_States_of_America   \n",
       "                         2020-03-30 08:00:00  United_States_of_America   \n",
       "                         2020-03-30 16:00:00  United_States_of_America   \n",
       "                         2020-03-31 00:00:00  United_States_of_America   \n",
       "                         2020-03-31 08:00:00  United_States_of_America   \n",
       "                         2020-03-31 16:00:00  United_States_of_America   \n",
       "                         2020-04-01 00:00:00  United_States_of_America   \n",
       "\n",
       "                                                         dateRep  \n",
       "countriesAndTerritories  dateRep                                  \n",
       "United_States_of_America 2020-03-29 00:00:00 2020-03-29 00:00:00  \n",
       "                         2020-03-29 08:00:00 2020-03-29 08:00:00  \n",
       "                         2020-03-29 16:00:00 2020-03-29 16:00:00  \n",
       "                         2020-03-30 00:00:00 2020-03-30 00:00:00  \n",
       "                         2020-03-30 08:00:00 2020-03-30 08:00:00  \n",
       "                         2020-03-30 16:00:00 2020-03-30 16:00:00  \n",
       "                         2020-03-31 00:00:00 2020-03-31 00:00:00  \n",
       "                         2020-03-31 08:00:00 2020-03-31 08:00:00  \n",
       "                         2020-03-31 16:00:00 2020-03-31 16:00:00  \n",
       "                         2020-04-01 00:00:00 2020-04-01 00:00:00  "
      ]
     },
     "execution_count": 11,
     "metadata": {},
     "output_type": "execute_result"
    }
   ],
   "source": [
    "df_final_upsam[df_final_upsam.countriesAndTerritories == 'United_States_of_America'][-10:]"
   ]
  },
  {
   "cell_type": "markdown",
   "metadata": {},
   "source": [
    "Another interesting observation is that now the data frame has got a multi index. Also in the previous step, I have added another datetime based column taking from the index values(you can see that index values are tuples)"
   ]
  },
  {
   "cell_type": "code",
   "execution_count": 110,
   "metadata": {},
   "outputs": [],
   "source": [
    "df_final = df_final_upsam"
   ]
  },
  {
   "cell_type": "markdown",
   "metadata": {},
   "source": [
    "## Plotting a simple bar Chart\n",
    "    \n",
    "Lets start with a basic horizontal bar chart and plot for the day 01-04-2020\n",
    "\n",
    "Here lets say we are interested to see top 5 values\n",
    "\n",
    "Lets visualize top 10 values"
   ]
  },
  {
   "cell_type": "code",
   "execution_count": 12,
   "metadata": {},
   "outputs": [
    {
     "data": {
      "text/plain": [
       "<BarContainer object of 10 artists>"
      ]
     },
     "execution_count": 12,
     "metadata": {},
     "output_type": "execute_result"
    },
    {
     "data": {
      "image/png": "[encoded data removed]",
      "text/plain": [
       "<Figure size 864x360 with 1 Axes>"
      ]
     },
     "metadata": {
      "needs_background": "light"
     },
     "output_type": "display_data"
    }
   ],
   "source": [
    "trial_day = pd.to_datetime('20200401', format='%Y%m%d', errors='ignore')\n",
    "df_final = df_final.dropna()\n",
    "df_trial = df_final[df_final['dateRep'] == trial_day]\n",
    "df_trial = df_trial.sort_values(by='cases', ascending=False).head(10)\n",
    "\n",
    "# plotting the chart\n",
    "\n",
    "fig, ax = plt.subplots(figsize=(12, 5))\n",
    "ax.barh(df_trial.countriesAndTerritories, df_trial.cases)"
   ]
  },
  {
   "cell_type": "markdown",
   "metadata": {},
   "source": [
    "We can notice the highest bar is at the bottom, so we need to flip that\n",
    "\n",
    "Also we need to set differen colors for different graphs.\n",
    "\n",
    "Since we have a population column available, we can go for a population based color differentiation"
   ]
  },
  {
   "cell_type": "code",
   "execution_count": 13,
   "metadata": {},
   "outputs": [],
   "source": [
    "pop_val = df_final.popData2018.values\n",
    "color = np.full_like(pop_val, 0.0).astype(str)\n",
    "color_list =  ['#adb0ff', '#ffb3ff', '#90d595', '#e48381', '#aafbff', '#eafb50', '#f7bb5f']\n",
    "\n",
    "pop_list = [1e7, 2.5e7, 5e7, 7.5e7, 9e7, 4e8]\n",
    "for i in range(len(pop_list) + 1):\n",
    "    if not i:\n",
    "        color[pop_val <= pop_list[i]] = color_list[i]\n",
    "        continue\n",
    "    if i == len(pop_list):\n",
    "        color[pop_val > pop_list[-1]] = color_list[i]\n",
    "        continue\n",
    "    color[(pop_list[i - 1] <= pop_val) & (pop_val < pop_list[i])] = color_list[i]"
   ]
  },
  {
   "cell_type": "code",
   "execution_count": 113,
   "metadata": {},
   "outputs": [
    {
     "data": {
      "text/html": [
       "<div>\n",
       "<style scoped>\n",
       "    .dataframe tbody tr th:only-of-type {\n",
       "        vertical-align: middle;\n",
       "    }\n",
       "\n",
       "    .dataframe tbody tr th {\n",
       "        vertical-align: top;\n",
       "    }\n",
       "\n",
       "    .dataframe thead th {\n",
       "        text-align: right;\n",
       "    }\n",
       "</style>\n",
       "<table border=\"1\" class=\"dataframe\">\n",
       "  <thead>\n",
       "    <tr style=\"text-align: right;\">\n",
       "      <th></th>\n",
       "      <th></th>\n",
       "      <th>cases</th>\n",
       "      <th>deaths</th>\n",
       "      <th>popData2018</th>\n",
       "      <th>countriesAndTerritories</th>\n",
       "      <th>dateRep</th>\n",
       "    </tr>\n",
       "    <tr>\n",
       "      <th>countriesAndTerritories</th>\n",
       "      <th>dateRep</th>\n",
       "      <th></th>\n",
       "      <th></th>\n",
       "      <th></th>\n",
       "      <th></th>\n",
       "      <th></th>\n",
       "    </tr>\n",
       "  </thead>\n",
       "  <tbody>\n",
       "    <tr>\n",
       "      <td>United_States_of_America</td>\n",
       "      <td>2020-04-01</td>\n",
       "      <td>189618</td>\n",
       "      <td>4079</td>\n",
       "      <td>3.271674e+08</td>\n",
       "      <td>United_States_of_America</td>\n",
       "      <td>2020-04-01</td>\n",
       "    </tr>\n",
       "    <tr>\n",
       "      <td>Italy</td>\n",
       "      <td>2020-04-01</td>\n",
       "      <td>105792</td>\n",
       "      <td>12430</td>\n",
       "      <td>6.043128e+07</td>\n",
       "      <td>Italy</td>\n",
       "      <td>2020-04-01</td>\n",
       "    </tr>\n",
       "    <tr>\n",
       "      <td>Spain</td>\n",
       "      <td>2020-04-01</td>\n",
       "      <td>94417</td>\n",
       "      <td>8189</td>\n",
       "      <td>4.672375e+07</td>\n",
       "      <td>Spain</td>\n",
       "      <td>2020-04-01</td>\n",
       "    </tr>\n",
       "    <tr>\n",
       "      <td>China</td>\n",
       "      <td>2020-04-01</td>\n",
       "      <td>82295</td>\n",
       "      <td>3310</td>\n",
       "      <td>1.392730e+09</td>\n",
       "      <td>China</td>\n",
       "      <td>2020-04-01</td>\n",
       "    </tr>\n",
       "    <tr>\n",
       "      <td>Germany</td>\n",
       "      <td>2020-04-01</td>\n",
       "      <td>67366</td>\n",
       "      <td>732</td>\n",
       "      <td>8.292792e+07</td>\n",
       "      <td>Germany</td>\n",
       "      <td>2020-04-01</td>\n",
       "    </tr>\n",
       "    <tr>\n",
       "      <td>France</td>\n",
       "      <td>2020-04-01</td>\n",
       "      <td>52128</td>\n",
       "      <td>3523</td>\n",
       "      <td>6.698724e+07</td>\n",
       "      <td>France</td>\n",
       "      <td>2020-04-01</td>\n",
       "    </tr>\n",
       "    <tr>\n",
       "      <td>Iran</td>\n",
       "      <td>2020-04-01</td>\n",
       "      <td>44606</td>\n",
       "      <td>2898</td>\n",
       "      <td>8.180027e+07</td>\n",
       "      <td>Iran</td>\n",
       "      <td>2020-04-01</td>\n",
       "    </tr>\n",
       "    <tr>\n",
       "      <td>United_Kingdom</td>\n",
       "      <td>2020-04-01</td>\n",
       "      <td>25150</td>\n",
       "      <td>1789</td>\n",
       "      <td>6.648899e+07</td>\n",
       "      <td>United_Kingdom</td>\n",
       "      <td>2020-04-01</td>\n",
       "    </tr>\n",
       "    <tr>\n",
       "      <td>Switzerland</td>\n",
       "      <td>2020-04-01</td>\n",
       "      <td>16108</td>\n",
       "      <td>373</td>\n",
       "      <td>8.516543e+06</td>\n",
       "      <td>Switzerland</td>\n",
       "      <td>2020-04-01</td>\n",
       "    </tr>\n",
       "    <tr>\n",
       "      <td>Turkey</td>\n",
       "      <td>2020-04-01</td>\n",
       "      <td>15422</td>\n",
       "      <td>214</td>\n",
       "      <td>8.231972e+07</td>\n",
       "      <td>Turkey</td>\n",
       "      <td>2020-04-01</td>\n",
       "    </tr>\n",
       "  </tbody>\n",
       "</table>\n",
       "</div>"
      ],
      "text/plain": [
       "                                      cases  deaths   popData2018  \\\n",
       "countriesAndTerritories  dateRep                                    \n",
       "United_States_of_America 2020-04-01  189618    4079  3.271674e+08   \n",
       "Italy                    2020-04-01  105792   12430  6.043128e+07   \n",
       "Spain                    2020-04-01   94417    8189  4.672375e+07   \n",
       "China                    2020-04-01   82295    3310  1.392730e+09   \n",
       "Germany                  2020-04-01   67366     732  8.292792e+07   \n",
       "France                   2020-04-01   52128    3523  6.698724e+07   \n",
       "Iran                     2020-04-01   44606    2898  8.180027e+07   \n",
       "United_Kingdom           2020-04-01   25150    1789  6.648899e+07   \n",
       "Switzerland              2020-04-01   16108     373  8.516543e+06   \n",
       "Turkey                   2020-04-01   15422     214  8.231972e+07   \n",
       "\n",
       "                                      countriesAndTerritories    dateRep  \n",
       "countriesAndTerritories  dateRep                                          \n",
       "United_States_of_America 2020-04-01  United_States_of_America 2020-04-01  \n",
       "Italy                    2020-04-01                     Italy 2020-04-01  \n",
       "Spain                    2020-04-01                     Spain 2020-04-01  \n",
       "China                    2020-04-01                     China 2020-04-01  \n",
       "Germany                  2020-04-01                   Germany 2020-04-01  \n",
       "France                   2020-04-01                    France 2020-04-01  \n",
       "Iran                     2020-04-01                      Iran 2020-04-01  \n",
       "United_Kingdom           2020-04-01            United_Kingdom 2020-04-01  \n",
       "Switzerland              2020-04-01               Switzerland 2020-04-01  \n",
       "Turkey                   2020-04-01                    Turkey 2020-04-01  "
      ]
     },
     "execution_count": 113,
     "metadata": {},
     "output_type": "execute_result"
    }
   ],
   "source": [
    "df_trial"
   ]
  },
  {
   "cell_type": "markdown",
   "metadata": {},
   "source": [
    "Now we have different colors given to the countries, lets try plotting again"
   ]
  },
  {
   "cell_type": "code",
   "execution_count": 14,
   "metadata": {},
   "outputs": [
    {
     "data": {
      "text/plain": [
       "Text(1, 0.3, '2020-04-01')"
      ]
     },
     "execution_count": 14,
     "metadata": {},
     "output_type": "execute_result"
    },
    {
     "data": {
      "image/png": "[encoded data removed]",
      "text/plain": [
       "<Figure size 864x360 with 1 Axes>"
      ]
     },
     "metadata": {
      "needs_background": "light"
     },
     "output_type": "display_data"
    }
   ],
   "source": [
    "df_final['color'] = color\n",
    "df_trial = df_final[df_final['dateRep'] == trial_day]\n",
    "df_trial = df_trial.sort_values(by='cases', ascending=False).head(9)\n",
    "\n",
    "df_trial = df_trial[::-1] # flip values from top to bottom\n",
    "fig, ax = plt.subplots(figsize=(12, 5))\n",
    "ax.barh(df_trial['countriesAndTerritories'], df_trial['cases'], color=df_trial.color.values)\n",
    "# iterate over the values to plot labels and values\n",
    "for i, (value, name) in enumerate(zip(df_trial['cases'], df_trial['countriesAndTerritories'])):\n",
    "    ax.text(value, i,     name,            ha='right') \n",
    "    ax.text(value, i,     value,           ha='left') \n",
    "# Add year right middle portion of canvas\n",
    "day = str(trial_day)\n",
    "ax.text(1, 0.3, day.split()[0], transform=ax.transAxes, size=24, ha='right')\n"
   ]
  },
  {
   "cell_type": "markdown",
   "metadata": {},
   "source": [
    "## Plotting Animation\n",
    "\n",
    "The big step is to plot the animation. The method I have used here has got many line of code from a webpage, so thankfully mentioning those You guyys need to carefully go through these and understand."
   ]
  },
  {
   "cell_type": "code",
   "execution_count": 115,
   "metadata": {},
   "outputs": [
    {
     "data": {
      "image/png": "[encoded data removed]",
      "text/plain": [
       "<Figure size 1080x720 with 1 Axes>"
      ]
     },
     "metadata": {
      "needs_background": "light"
     },
     "output_type": "display_data"
    }
   ],
   "source": [
    "fig, ax = plt.subplots(figsize=(15, 10))\n",
    "def draw_barchart(trial_day):\n",
    "    df_final['color'] = color\n",
    "    df_trial = df_final[df_final['dateRep'] == trial_day]\n",
    "    df_trial = df_trial.sort_values(by='cases', ascending=False).head(9)\n",
    "    df_trial = df_trial[::-1] # flip values from top to bottom\n",
    "    ax.clear()\n",
    "    ax.barh(df_trial['countriesAndTerritories'], df_trial['cases'], color=df_trial.color.values)\n",
    "    dx = df_trial['cases'].max() / 50\n",
    "    # iterate over the values to plot labels and values\n",
    "    for i, (value, name) in enumerate(zip(df_trial['cases'], df_trial['countriesAndTerritories'])):\n",
    "        ax.text(value- dx, i,     name,       size = 10, weight=800,     ha='right', va = 'bottom') \n",
    "        ax.text(value, i,     value,   size=12,        ha='left', va = 'center') \n",
    "    # Add year right middle portion of canvas\n",
    "    day = str(trial_day)\n",
    "    ax.text(1, 0.4, day.split()[0], transform=ax.transAxes, color='#777777', size=36, ha='right', weight=800)\n",
    "    ax.text(0, 1.06, 'Total Number of Reported COVID19 cases', transform=ax.transAxes, size=24, color='#777777', weight=600)\n",
    "    ax.xaxis.set_major_formatter(ticker.StrMethodFormatter('{x:,.0f}'))\n",
    "    ax.xaxis.set_ticks_position('top')\n",
    "    ax.tick_params(axis='x', colors='#777777', labelsize=12)\n",
    "    ax.set_yticks([])\n",
    "    ax.margins(0, 0.01)\n",
    "    ax.grid(which='major', axis='x', linestyle='-')\n",
    "    ax.set_axisbelow(True)\n",
    "    ax.text(1, 0, 'by Arun C John; credit @pratapvardhan', transform=ax.transAxes, ha='right',\n",
    "            color='#777777', bbox=dict(facecolor='white', alpha=0.8, edgecolor='white'))\n",
    "    plt.box(False)\n",
    "\n",
    "draw_barchart(trial_day)"
   ]
  },
  {
   "cell_type": "markdown",
   "metadata": {},
   "source": [
    "## Animate Race\n",
    "To animate the race, we will use FuncAnimation from matplotlib.animation. FuncAnimation creates an animation by repeatedly calling a function (that draws on canvas). In our case, that function will be draw_barchart. We also use frames, this argument accepts on what values you want to run draw_barchart. Here I have used custom range of dates, of course you should be able to play with those!."
   ]
  },
  {
   "cell_type": "code",
   "execution_count": 116,
   "metadata": {},
   "outputs": [
    {
     "data": {
      "text/plain": [
       "<IPython.core.display.HTML object>"
      ]
     },
     "execution_count": 116,
     "metadata": {},
     "output_type": "execute_result"
    },
    {
     "data": {
      "image/png": "[encoded data removed]",
      "text/plain": [
       "<Figure size 1080x720 with 1 Axes>"
      ]
     },
     "metadata": {
      "needs_background": "light"
     },
     "output_type": "display_data"
    }
   ],
   "source": [
    "import matplotlib.animation as animation\n",
    "from IPython.display import HTML\n",
    "start_day = pd.to_datetime('20200215', format='%Y%m%d', errors='ignore')\n",
    "fig, ax = plt.subplots(figsize=(15, 10))\n",
    "animator = animation.FuncAnimation(fig, draw_barchart, frames=pd.date_range(start_day, df_final.dateRep.max(), freq='8H'))\n",
    "Writer = animation.writers['ffmpeg']\n",
    "writer = Writer(fps=15, metadata=dict(artist='Me'), bitrate=1800)\n",
    "HTML(animator.save('D:\\Misc\\movie.mp4'))"
   ]
  }
 ],
 "metadata": {
  "kernelspec": {
   "display_name": "Python 3",
   "language": "python",
   "name": "python3"
  },
  "language_info": {
   "codemirror_mode": {
    "name": "ipython",
    "version": 3
   },
   "file_extension": ".py",
   "mimetype": "text/x-python",
   "name": "python",
   "nbconvert_exporter": "python",
   "pygments_lexer": "ipython3",
   "version": "3.7.4"
  }
 },
 "nbformat": 4,
 "nbformat_minor": 2
}
